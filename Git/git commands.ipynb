{
 "cells": [
  {
   "cell_type": "code",
   "execution_count": null,
   "metadata": {
    "vscode": {
     "languageId": "plaintext"
    }
   },
   "outputs": [],
   "source": [
    "# initialize a new git repository\n",
    "git init\n",
    "# set configuration settings\n",
    "git config \n",
    "    git config --global user.name \"Your Name\"\n",
    "    git config --global user.email \"Your@email.com\""
   ]
  },
  {
   "cell_type": "code",
   "execution_count": null,
   "metadata": {
    "vscode": {
     "languageId": "plaintext"
    }
   },
   "outputs": [],
   "source": [
    "### Basic Commands\n",
    "# clone a repo\n",
    "git clone\n",
    "# check the status of your changes in the working directory\n",
    "git status \n",
    "# add a file to the staging area\n",
    "git add\n",
    "# commit the staged changes and add a comment\\message\n",
    "git commit -m \"Add comment here\"\n",
    "# view commit logs\n",
    "git log"
   ]
  },
  {
   "cell_type": "code",
   "execution_count": null,
   "metadata": {
    "vscode": {
     "languageId": "plaintext"
    }
   },
   "outputs": [],
   "source": [
    "# list all local branches\n",
    "git branch\n",
    "# create a new branch \n",
    "git branch <branch name>\n",
    "# switch to a branch\n",
    "git checkout <branch name>\n",
    "# create a new branch and switch to it\n",
    "git checkout -b <branch name>\n",
    "# merge a specified branch into the current branch\n",
    "git merge <branch name>\n",
    "# delete a branch \n",
    "git branch -d <branch name>"
   ]
  },
  {
   "cell_type": "code",
   "execution_count": null,
   "metadata": {
    "vscode": {
     "languageId": "plaintext"
    }
   },
   "outputs": [],
   "source": [
    "#### remote repos\n",
    "# add a remote repo\n",
    "git remote add <name> <url>\n",
    "# list all remote repos\n",
    "git remote\n",
    "# send files from working directory to remote repo\n",
    "git push\n",
    "# get latest changes from a remote repo\n",
    "git pull"
   ]
  },
  {
   "cell_type": "code",
   "execution_count": null,
   "metadata": {
    "vscode": {
     "languageId": "plaintext"
    }
   },
   "outputs": [],
   "source": [
    "### Undoing changes\n",
    "# Reset your staging area to match the most recent commit, without affecting your working directory\n",
    "git reset\n",
    "# reset the staging area and the working directory to match the most recent commit\n",
    "git reset --hard\n",
    "# create a new commit that undoes all of the changes from a previous commit\n",
    "git revert <commit>"
   ]
  },
  {
   "cell_type": "code",
   "execution_count": null,
   "metadata": {
    "vscode": {
     "languageId": "plaintext"
    }
   },
   "outputs": [],
   "source": [
    "### advanced git\n",
    "# temporarily save chnages that are not yet ready for a commit\n",
    "git stash\n",
    "# restore the most recent stashed chnages\n",
    "git stash pop\n",
    "\n",
    "#### This can be used when you are trying to commit files and a file you do not want to commit is appearing. you can use git stash to hide the file and then pop to un-hide it\n",
    "\n",
    "\n",
    "# reapply changes from one branch onto another, often used to intergrate chnages from one branch into another\n",
    "git rebase <branch>\n",
    "\n",
    "# apply chnages from a specific commit to the current branch\n",
    "git cherry-pick <commit>"
   ]
  },
  {
   "cell_type": "code",
   "execution_count": null,
   "metadata": {
    "vscode": {
     "languageId": "plaintext"
    }
   },
   "outputs": [],
   "source": [
    "# show who made changes to a file and when \n",
    "git blame <file>\n",
    "# show chnages between commits, commit and working tree, etc\n",
    "git diff\n",
    "# fetch chnages from a remote repo with out merging them\n",
    "git fetch "
   ]
  },
  {
   "cell_type": "code",
   "execution_count": null,
   "metadata": {
    "vscode": {
     "languageId": "plaintext"
    }
   },
   "outputs": [],
   "source": [
    "### git maintenance and data recovery\n",
    "# check the database for errors\n",
    "git fsck\n",
    "# clean up and optimize the local repo \n",
    "git gc\n",
    "# record when refs were updated in the local repo, useful for recoving lost commits\n",
    "git reflog"
   ]
  },
  {
   "cell_type": "code",
   "execution_count": null,
   "metadata": {
    "vscode": {
     "languageId": "plaintext"
    }
   },
   "outputs": [],
   "source": []
  }
 ],
 "metadata": {
  "language_info": {
   "name": "python"
  }
 },
 "nbformat": 4,
 "nbformat_minor": 2
}
