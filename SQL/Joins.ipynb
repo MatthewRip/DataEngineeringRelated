{
 "cells": [
  {
   "cell_type": "markdown",
   "metadata": {},
   "source": [
    "# Joins"
   ]
  },
  {
   "cell_type": "code",
   "execution_count": null,
   "metadata": {
    "vscode": {
     "languageId": "plaintext"
    }
   },
   "outputs": [],
   "source": [
    "#### INNER JOIN\n",
    "An inner join is used when you want to combine rows from two or more tables based on a related column between them. It returns only the matching rows from both tables.\n",
    "\n",
    "SELECT column1, column2, ...\n",
    "FROM table1\n",
    "INNER JOIN table2\n",
    "ON table1.column = table2.column;"
   ]
  },
  {
   "cell_type": "code",
   "execution_count": null,
   "metadata": {
    "vscode": {
     "languageId": "plaintext"
    }
   },
   "outputs": [],
   "source": [
    "An outer join is used when you want to include all rows from both tables, regardless of whether there is a match between the common columns or not. \n",
    "It returns NULL values for the columns where there is no match. \n",
    "This is useful when you want to combine data from multiple tables and include all the records, even if there are missing values in the common columns.\n",
    "\n",
    "SELECT column1, column2, ...\n",
    "FROM table1\n",
    "LEFT OUTER JOIN table2\n",
    "ON table1.column = table2.column;\n",
    "\n",
    "\n",
    "SELECT column1, column2, ...\n",
    "FROM table1\n",
    "LEFT JOIN table2\n",
    "ON table1.column = table2.column;"
   ]
  },
  {
   "cell_type": "code",
   "execution_count": null,
   "metadata": {
    "vscode": {
     "languageId": "plaintext"
    }
   },
   "outputs": [],
   "source": [
    "# Full outer join\n",
    "A full outer join is used when you want to combine the results of two tables, including both matching and non-matching rows from both tables.\n",
    "It returns all rows from both tables, and if there is no match between the tables, it fills in NULL values for the columns of the non-matching table.\n",
    "\n",
    "SELECT column1, column2, ...\n",
    "FROM table1\n",
    "LEFT JOIN table2\n",
    "SELECT column1, column2, ...\n",
    "FROM table1\n",
    "FULL OUTER JOIN table2\n",
    "ON table1.column = table2.column;"
   ]
  },
  {
   "cell_type": "code",
   "execution_count": null,
   "metadata": {
    "vscode": {
     "languageId": "plaintext"
    }
   },
   "outputs": [],
   "source": [
    "# CROSS OUTER JOIN\n",
    "A cross outer join, also known as a cross join or Cartesian join, is used when you want to combine every row from one table with every row from another table. \n",
    "It returns a result set that contains all possible combinations of rows from both tables.\n",
    "\n",
    "SELECT column1, column2, ...\n",
    "FROM table1\n",
    "CROSS JOIN table2;\n"
   ]
  },
  {
   "cell_type": "code",
   "execution_count": null,
   "metadata": {
    "vscode": {
     "languageId": "plaintext"
    }
   },
   "outputs": [],
   "source": [
    "SELECT column1, column2, ...\n",
    "FROM table1\n",
    "FULL OUTER JOIN table2\n",
    "ON table1.column = table2.column;"
   ]
  }
 ],
 "metadata": {
  "language_info": {
   "name": "python"
  }
 },
 "nbformat": 4,
 "nbformat_minor": 2
}
