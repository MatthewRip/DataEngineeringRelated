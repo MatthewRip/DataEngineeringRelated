{
 "cells": [
  {
   "cell_type": "markdown",
   "metadata": {},
   "source": [
    "## SQL Examples"
   ]
  },
  {
   "cell_type": "code",
   "execution_count": null,
   "metadata": {
    "vscode": {
     "languageId": "plaintext"
    }
   },
   "outputs": [],
   "source": [
    "# A way to apply multiple filters to an aggregate \n",
    "Select\n",
    "    COUNT(CASE WHEN salary > THEN 1 END) as \"high_sal\",\n",
    "    COUNT(CASE WHEN salary BETWEEN 50000 AND 70000 THEN 1 END) as \"medium_sal\",\n",
    "    COUNT(CASE WHEN salary < 50000 THEN 1 END) as \"low_sal\"\n",
    "FROM table_name;\n"
   ]
  },
  {
   "cell_type": "code",
   "execution_count": null,
   "metadata": {
    "vscode": {
     "languageId": "plaintext"
    }
   },
   "outputs": [],
   "source": [
    "# pivoting\n",
    "# Pivoting is the act of turing row-level data into columnar data.\n",
    "\n",
    "# Sales amount and salesperson in each row, but we want a report by salesperson, by month\n",
    "\n",
    "Select salesperson, [Jan] AS \"Jan_sales\", [Feb] AS Feb_sales\n",
    "FROM \n",
    "(Select salesperson, month, sales FROM sales) as sourceTable\n",
    "Pivoting\n",
    "(\n",
    "    SUM(sales)\n",
    "    FOR month IN ([Jan], [Feb])\n",
    ") AS PivotTable;\n",
    "\n",
    "\n",
    "# same example using CASE Statement\n",
    "SELECT \n",
    "    salesperson,\n",
    "    SUM(CASE WHEN month = 'Jan' THEN sales ELSE 0 END) as \"Jan_sales\",\n",
    "    SUM(CASE WHEN month = 'Feb' THEN sales ELSE 0 END) as \"Feb_sales\",\n",
    "FROM sales\n",
    "GROUPBY salesperson;"
   ]
  },
  {
   "cell_type": "code",
   "execution_count": null,
   "metadata": {
    "vscode": {
     "languageId": "plaintext"
    }
   },
   "outputs": [],
   "source": []
  }
 ],
 "metadata": {
  "language_info": {
   "name": "python"
  }
 },
 "nbformat": 4,
 "nbformat_minor": 2
}
