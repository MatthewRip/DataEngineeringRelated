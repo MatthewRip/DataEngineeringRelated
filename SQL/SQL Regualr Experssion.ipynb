{
 "cells": [
  {
   "cell_type": "code",
   "execution_count": null,
   "metadata": {
    "vscode": {
     "languageId": "plaintext"
    }
   },
   "outputs": [],
   "source": [
    "Patten matching.\n",
    "    Think a much more powerful \"LIKE\n",
    "~ is the regualr experssion operator\n",
    "~* is case-insensitive\n",
    "!~* not match experssion, case insensitive"
   ]
  },
  {
   "cell_type": "code",
   "execution_count": null,
   "metadata": {
    "vscode": {
     "languageId": "plaintext"
    }
   },
   "outputs": [],
   "source": [
    "Regualr experssions\n",
    "    ^ - match a pattern at the start of a string\n",
    "    $ - match a pattern at the end of a srting\n",
    "    | - alterbare characters (sit|sat matches both sit and sat)\n",
    "    Ranges ([a-z] matches any lower case letters)\n",
    "    Repeats ([a-z]{4} matches any four-letter lowercase word)\n",
    "    Special metacharacters\n",
    "        \\d - any digit\n",
    "        \\w any letter, digit, underscore\n",
    "        \\s whitesapce\n",
    "        \\t tab"
   ]
  },
  {
   "cell_type": "code",
   "execution_count": null,
   "metadata": {
    "vscode": {
     "languageId": "plaintext"
    }
   },
   "outputs": [],
   "source": [
    "# Example\n",
    "\n",
    "# select any row where the name starts with \"fire\" or \"ice\" (case-insensitive)\n",
    "Select * FROM name WHERE name ~* '^(fire|ice)';"
   ]
  }
 ],
 "metadata": {
  "language_info": {
   "name": "python"
  }
 },
 "nbformat": 4,
 "nbformat_minor": 2
}
