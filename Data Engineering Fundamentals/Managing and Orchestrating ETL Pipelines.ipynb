{
 "cells": [
  {
   "cell_type": "markdown",
   "metadata": {},
   "source": [
    "# ETL Pipelines\n",
    "\n",
    "Definition: \n",
    "\n",
    "ETL stands for Extract, Transform, Load. It is a process used in data engineering to extract data from various sources, transform it into a suitable format, and load it into a target system or data warehouse. The ETL process involves extracting data from different databases, files, or APIs, applying transformations such as cleaning, filtering, and aggregating the data, and finally loading it into a destination where it can be analyzed or used for reporting purposes. ETL is a fundamental step in data engineering and plays a crucial role in data integration and data warehousing."
   ]
  },
  {
   "cell_type": "markdown",
   "metadata": {},
   "source": [
    "# ELT\n",
    "\n",
    "Definition: \n",
    "\n",
    "ELT stands for Extract, Load, Transform. It is an alternative approach to data integration and processing, similar to ETL (Extract, Transform, Load). In ELT, the data is first extracted from various sources and loaded into a target system or data lake without any transformation. The transformation step is then performed directly on the loaded data using tools or frameworks that can handle large volumes of data efficiently, such as Apache Spark or Hadoop. ELT allows for more flexibility and scalability in data processing, as the transformation can be performed on the raw data in its original format."
   ]
  },
  {
   "cell_type": "markdown",
   "metadata": {},
   "source": []
  }
 ],
 "metadata": {
  "language_info": {
   "name": "python"
  }
 },
 "nbformat": 4,
 "nbformat_minor": 2
}
