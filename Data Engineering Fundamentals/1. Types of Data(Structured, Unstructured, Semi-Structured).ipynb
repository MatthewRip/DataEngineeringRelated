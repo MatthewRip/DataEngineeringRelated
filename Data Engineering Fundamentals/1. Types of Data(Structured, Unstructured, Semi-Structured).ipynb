{
 "cells": [
  {
   "cell_type": "markdown",
   "metadata": {},
   "source": [
    "# Types of data\n",
    "\n",
    "- Structured\n",
    "- Unstructured\n",
    "- Semi-Structured\n"
   ]
  },
  {
   "cell_type": "markdown",
   "metadata": {},
   "source": [
    "## Structured Data\n",
    "\n",
    "- Definition: Data that is organized in a defined manner or schema, typically found in relational databases.\n",
    "\n",
    "Structured data refers to organized and formatted information that follows a specific data model or schema. It is designed to be easily understood by both humans and machines. In structured data, the data elements are organized into a predefined structure, such as tables, rows, and columns, which allows for efficient storage, retrieval, and manipulation.\n",
    "\n",
    "- Characteristics:\n",
    "    - Easily queryable\n",
    "    - Organized in rows and columns\n",
    "    - Has a consistent structure\n",
    "\n",
    "- Examples:\n",
    "    - Database tables\n",
    "    - CSV files with consistent columns\n",
    "    - Excel spreadsheets"
   ]
  },
  {
   "cell_type": "markdown",
   "metadata": {},
   "source": [
    "# Unstructured Data\n",
    "\n",
    "- Definition: Data that does not have a predefined structure or schema.\n",
    "\n",
    "Unstructured data refers to information that either does not have a pre-defined data model or is not organized in a pre-defined manner. This type of data is typically text-heavy, but may contain data such as dates, numbers, and facts as well.\n",
    "\n",
    "- Characteristics:\n",
    "    - Not easily queryable without preprocessing.\n",
    "    - May come in various formats.\n",
    "        - Raw text files without a fixed format\n",
    "        - Videos and audio files\n",
    "        - Images\n",
    "        - Emails and word processing documents\n",
    "\n",
    "- Examples of unstructured data include:\n",
    "    - Text files: Word documents, PDFs, emails, business reports, etc.\n",
    "    - Social Media data: Tweets, posts, blogs, etc.\n",
    "    - Website content: HTML pages, images, videos, blogs, news feeds, etc.\n",
    "    - Business applications: Log files, call detail records, etc.\n",
    "    - Scientific applications: Oil and gas exploration, environmental sensing, etc."
   ]
  },
  {
   "cell_type": "markdown",
   "metadata": {},
   "source": [
    "# Semi-Structured\n",
    "\n",
    "- Definition: Data that is not as organized as structured data but has some level of structure in the form of tags, hierarchies, or other patterns.\n",
    "\n",
    "Semi-structured data is a type of data that does not conform to the formal structure of data models associated with relational databases or other forms of data tables, but nonetheless contains tags or other markers to separate semantic elements and enforce hierarchies of records and fields within the data.\n",
    "\n",
    "In other words, it's a middle ground between structured data (like a SQL database) and unstructured data (like a Word document).\n",
    "\n",
    "- Characteristics:\n",
    "    - Elements might be tagged or categorized in some way\n",
    "    - More flexible that structured data but not as chaotic as unstructured data.\n",
    "\n",
    "\n",
    "\n",
    "- Examples of semi-structured data include:\n",
    "    - XML documents: XML, or Extensible Markup Language, uses tags to define elements and can represent complex hierarchical structures.\n",
    "    - JSON files: JSON, or JavaScript Object Notation, is a format that uses human-readable text to transmit data objects consisting of attribute-value pairs and array data types.\n",
    "    - CSV files: While CSV, or Comma Separated Values, files can be considered structured, they can also represent semi-structured data if the fields vary from record to record.\n",
    "    - Email: The body of the email is unstructured, but the headers (To, From, Date, Subject) are structured.\n",
    "The advantage of semi-structured data is that it can be processed and analyzed with a bit more ease than unstructured data, while still providing a rich and complex data set.\n"
   ]
  },
  {
   "cell_type": "code",
   "execution_count": null,
   "metadata": {
    "vscode": {
     "languageId": "plaintext"
    }
   },
   "outputs": [],
   "source": []
  },
  {
   "cell_type": "markdown",
   "metadata": {},
   "source": []
  }
 ],
 "metadata": {
  "language_info": {
   "name": "python"
  }
 },
 "nbformat": 4,
 "nbformat_minor": 2
}
