{
 "cells": [
  {
   "cell_type": "markdown",
   "metadata": {},
   "source": [
    "## Data Sources\n",
    "\n",
    "- JDBC\n",
    "    - Java Database Connectivity\n",
    "    - Platform-independent\n",
    "    - Language-dependent\n",
    "\n",
    "- ODBC\n",
    "    - Object Database Connectivity \n",
    "    - Platform-dependent (thanks to drivers)\n",
    "    - Language-independent"
   ]
  },
  {
   "cell_type": "markdown",
   "metadata": {},
   "source": []
  }
 ],
 "metadata": {
  "language_info": {
   "name": "python"
  }
 },
 "nbformat": 4,
 "nbformat_minor": 2
}
