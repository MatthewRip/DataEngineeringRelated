{
 "cells": [
  {
   "cell_type": "markdown",
   "metadata": {},
   "source": [
    "# Data Warehouse vs Data Lake / Lakehouses"
   ]
  },
  {
   "cell_type": "markdown",
   "metadata": {},
   "source": [
    "## Data Warehouse\n",
    "\n",
    "- Definition: A centralized repository optimaized for analysis where data from different sources is stored in a structured format.\n",
    "\n",
    "- Characteristics:\n",
    "    - Designed for complex queries and analysis.\n",
    "    - Data is cleaned, transformed and loaded (ETL process)\n",
    "    - Typically uses a star or snowflake schema\n",
    "    - Optizmized for read-heavey operations\n",
    "\n",
    "- Examples:\n",
    "    - Amazon Redshift\n",
    "    - Google BigQuery\n",
    "    - Microsoft Azure SQL Data Warehouse"
   ]
  },
  {
   "cell_type": "markdown",
   "metadata": {},
   "source": [
    "## Data Lake\n",
    "\n",
    "- Definition: A storage repository that holds vast amounts of raw data in its native format, including structured, semi-structured and unstructured data.\n",
    "\n",
    "- Characteristics:\n",
    "    - Can store large volumes of raw data without predefined schema.\n",
    "    - Data is loaded as-is, no need for processing.\n",
    "    - Supports batch, real-time and streaming processing.\n",
    "    - Can be queried for data transformation or exploration purposes.\n",
    "\n",
    "- Example:\n",
    "    - Amazon S3 when used as a data lake.\n",
    "    - Azure Data Lake Storage.\n",
    "    - Hadoop Distributed File System (HDFS)"
   ]
  },
  {
   "cell_type": "markdown",
   "metadata": {},
   "source": [
    "### Schema:\n",
    "- Data Warehouse: Schema-on-write (predefinded schema before wraiting data)\n",
    "    - Extract - Transform - Load (ETL)\n",
    "- Data Lake: Schema-on-read (schema is defined at the time of reading data)\n",
    "    - Extract - Load - Transform (ELT)\n"
   ]
  },
  {
   "cell_type": "markdown",
   "metadata": {},
   "source": [
    "### Data Types:\n",
    "- Data Warehouese: Primarily structured data.\n",
    "- Data Lake: Both structured and unstructured data."
   ]
  },
  {
   "cell_type": "markdown",
   "metadata": {},
   "source": [
    "### Agility\n",
    "- Data WarehouseL Less agile due to predefined schema.\n",
    "- Data Lake more agile as it accepts raw data without a predefined structure."
   ]
  },
  {
   "cell_type": "markdown",
   "metadata": {},
   "source": [
    "### Processing:\n",
    "- Data Warehouse: ETL (Extract Transform Load).\n",
    "- Data Lake: ELT (Extract Load Transform) or just load for storage purposes."
   ]
  },
  {
   "cell_type": "markdown",
   "metadata": {},
   "source": [
    "### Cost\n",
    "- Data Warehouse: Typically more expensive because of optimizations for complex queries.\n",
    "- Data Lake: Cost-effective storage solutionsm but costs can rise when processing large amounts of data."
   ]
  },
  {
   "cell_type": "markdown",
   "metadata": {},
   "source": [
    "## Choosing a Warehouse vs a Lake\n",
    "- Use a Data Warehouse when:\n",
    "    - You have structured data sources and require fast and complex queries.\n",
    "    - Data intergration from different sources is essential.\n",
    "    - Business intlligence and analytics are the primary use cases.\n",
    "- Use a Data Lake when:\n",
    "    - You have a mix of structured, semi-structured and unstructured data.\n",
    "    - You need a scalable and cost-effective solution to store massive amounts of data.\n",
    "    - Future needs for data are uncertain and you want to flexibility in storage and processing.\n",
    "    - Advanced analytics, machine learning or data discovery are key goals.\n",
    "\n",
    "- Often, organizations use a combination of both, ingesting raw data into a data lake and then processing and moving refined data into a data warehouse for analysis."
   ]
  },
  {
   "cell_type": "markdown",
   "metadata": {},
   "source": [
    "# Data Lakehouse\n",
    "- Definition: A hybrind data architecture that combines the best features of data lakes and data warehouses, amining to provide the preformance, reliability and capabilities of a data warehouse while maintaining the flexibility, scale and low-cost storage of data lakes.\n",
    "\n",
    "- Characteristics:\n",
    "    - Supports both sturctured and unstructured data.\n",
    "    - Allows for schema-on-write and schema-on-read.\n",
    "    - Provides capabilities for both detailed analytics and machine learning tasks.\n",
    "    - Typically buildon top of cloud or distibuted architectures.\n",
    "    - Benefits from technologies like Delta Lake, which brings ACID transactions to big data.\n",
    "- Examples:\n",
    "    - AWS Lake Formation (with S3 and Redshift Spectrum)\n",
    "    - Delta Lake: An open-source storage layer that brings ACID transactions to Apache Spark and big data workloads.\n",
    "    - Databricks Lakehouse Platform: A unified platform that combines the capabilities of data lakes and data warehouses.\n",
    "    - Azure Synapse Analytics: Mictosorft's analytics services that brings together big data and data warehousing."
   ]
  },
  {
   "cell_type": "markdown",
   "metadata": {},
   "source": [
    "## TDLR\n",
    "\n",
    "A Data Warehouse and a Data Lake are both widely used for storing big data, but they are not the same and serve different purposes.\n",
    "\n",
    "- Data Warehouse:\n",
    "    - A data warehouse is a large storage repository that stores structured and filtered data which is already processed, so it's ready for business analysts and data scientists to use.\n",
    "    - It uses a schema-on-write approach, which means the schema is defined before writing into the database.\n",
    "    - It is highly structured and requires ETL (Extract, Transform, Load) operations to load the data.\n",
    "    - It is ideal for generating reports and analysis on historical data.\n",
    "    - It is not typically designed to handle raw or unstructured data very well.\n",
    "- Data Lake:\n",
    "    - A data lake stores raw, unstructured, and semi-structured data, as well as structured data. It's a place to store every type of data in its native format with no fixed limits on account size or file.\n",
    "    - It uses a schema-on-read approach, which means the schema is defined only when reading the data.\n",
    "    - It is designed to handle high volume, velocity, and variety of data in near real-time.\n",
    "    - It is ideal for big data and real-time analytics.\n",
    "    - It allows for more flexible data exploration, as the data structure doesn't need to be defined when data is captured.\n",
    "\n",
    "In summary, if you know what questions you want to ask and just need a way to manage and organize your data, a data warehouse could be what you need. If you're not sure what questions you'll need to ask in the future and want to keep all options on the table, a data lake might be a better fit."
   ]
  }
 ],
 "metadata": {
  "language_info": {
   "name": "python"
  }
 },
 "nbformat": 4,
 "nbformat_minor": 2
}
