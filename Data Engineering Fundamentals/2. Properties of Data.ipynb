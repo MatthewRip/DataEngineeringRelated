{
 "cells": [
  {
   "cell_type": "markdown",
   "metadata": {},
   "source": [
    "# Properties of Data\n",
    "\n",
    "The 3 V's:\n",
    "- Volume\n",
    "- Velocity\n",
    "- Variety"
   ]
  },
  {
   "cell_type": "markdown",
   "metadata": {},
   "source": [
    "# Volume\n",
    "\n",
    "Definition: Refers to the amount or size of data that organizations are dealing with at any given time.\n",
    "\n",
    "This may define/handle the data at any given time.\n",
    "\n",
    "- Characteristics:\n",
    "    - May range from gigabytes to petabytes etc.\n",
    "    - Challenges in storing, processing and analyzing high volumes of data.\n",
    "\n",
    "- Examples:\n",
    "    - A popular social media platform processing terabytes of daily data from users posts, images and videos\n",
    "    - Retailers collecting years worth of transaction data amounting to several petabytes. \n",
    "\n",
    "Volume plays a role into your decissions on how you create your data engineering pipeline."
   ]
  },
  {
   "cell_type": "markdown",
   "metadata": {},
   "source": [
    "# Velocity\n",
    "\n",
    "- Definition: Refers to the speed at which new data is generated, collected and processed.\n",
    "\n",
    "Will you batch process or realtime process the data.\n",
    "\n",
    "- Characteristics:\n",
    "    - High velocity requires real-time or near real-time processing capabilities.\n",
    "    - Rapid ingestion and processing can be critical for certain applications.\n",
    "\n",
    "- Examples:\n",
    "    - Sensor data from IoT devices streaming readings every millisecond.\n",
    "    - High-frequency trading systems where milliseconds can make a difference in decision-making."
   ]
  },
  {
   "cell_type": "markdown",
   "metadata": {},
   "source": [
    "# Variety\n",
    "\n",
    "- Definition: Refers to the different types, structures and sources of data.\n",
    "\n",
    "- Characteristics:\n",
    "    - Data can be structured, semi-structured or unstructured.\n",
    "    - Data can come from multiple cources and in various formats\n",
    "\n",
    "- Examples:\n",
    "    - A business analyzing data from relational databases (structured), emails (unstructured) and JSON logs (semi-structured).\n",
    "    - Healthcare systems collection data from electronic medical records, wearable health devices and patient feedback forms."
   ]
  },
  {
   "cell_type": "markdown",
   "metadata": {},
   "source": []
  }
 ],
 "metadata": {
  "language_info": {
   "name": "python"
  }
 },
 "nbformat": 4,
 "nbformat_minor": 2
}
