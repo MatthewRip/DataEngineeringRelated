{
 "cells": [
  {
   "cell_type": "markdown",
   "metadata": {},
   "source": [
    "## What is a \"Data Mesh\"\n",
    "\n",
    "- Coined in 2019, its more about governance and organization.\n",
    "- Individual teams own \"data products\" within a given domain.\n",
    "    - teams own thier data.\n",
    "- These data products serve various \"use cases\" around the organization.\n",
    "- \"Domain-based data management\"\n",
    "- Federated governace with central standards. \n",
    "- Self-service tooling & infrastucture.\n",
    "- A \"data mesh\" is more about the \"data management oaradigm\" and not the specific technologies or architecture."
   ]
  },
  {
   "cell_type": "code",
   "execution_count": null,
   "metadata": {
    "vscode": {
     "languageId": "plaintext"
    }
   },
   "outputs": [],
   "source": []
  },
  {
   "cell_type": "markdown",
   "metadata": {},
   "source": [
    "\"Data Mesh\" is a relatively new approach to managing and organizing data that aims to address some of the challenges associated with traditional data management strategies, such as data lakes and data warehouses.\n",
    "\n",
    "In a Data Mesh architecture, the responsibility of data ownership, governance, and operations is decentralized and distributed across different teams within an organization. Each team is responsible for their own domain-specific data, which they expose as a product to other teams.\n",
    "\n",
    "Here are some key principles of the Data Mesh approach:\n",
    "\n",
    "1. Domain-oriented decentralized data ownership and architecture: Data is treated as a product, with a team that owns the product and is responsible for the product's quality, governance, and operations.\n",
    "\n",
    "2. Data as a product: Data is treated as a product with its own lifecycle. The team responsible for the data product manages it from inception to retirement.\n",
    "\n",
    "3. Self-serve data infrastructure as a platform: To enable teams to manage their own data, there is a need for a self-serve data infrastructure platform. This platform provides the necessary tooling and infrastructure for teams to discover, use, and publish data.\n",
    "\n",
    "4. Federated computational governance: Instead of centralized governance, Data Mesh encourages a federated governance model, where governance policies and rules are enforced through computational methods.\n",
    "\n",
    "The Data Mesh approach is particularly useful for organizations dealing with large, complex data ecosystems and those undergoing digital transformations. It promotes agility, scalability, and resilience in data management."
   ]
  },
  {
   "cell_type": "markdown",
   "metadata": {},
   "source": []
  }
 ],
 "metadata": {
  "language_info": {
   "name": "python"
  }
 },
 "nbformat": 4,
 "nbformat_minor": 2
}
